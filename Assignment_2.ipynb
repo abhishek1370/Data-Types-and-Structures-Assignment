{
  "nbformat": 4,
  "nbformat_minor": 0,
  "metadata": {
    "colab": {
      "provenance": []
    },
    "kernelspec": {
      "name": "python3",
      "display_name": "Python 3"
    },
    "language_info": {
      "name": "python"
    }
  },
  "cells": [
    {
      "cell_type": "markdown",
      "source": [
        "#Data Types and structures Questions"
      ],
      "metadata": {
        "id": "eQ25JSvM9NQh"
      }
    },
    {
      "cell_type": "markdown",
      "source": [
        " 1. What are data structures, and why are they important?"
      ],
      "metadata": {
        "id": "2ejCi_fw9b4y"
      }
    },
    {
      "cell_type": "markdown",
      "source": [
        "\n",
        "\n",
        "```\n",
        "Data types are specialized formats for organizing, storing, and accessing collections of data.\n",
        "- They provide efficient ways to manage information based on its characteristics and intended use.\n",
        "```\n",
        "\n"
      ],
      "metadata": {
        "id": "xS1AIS229izc"
      }
    },
    {
      "cell_type": "markdown",
      "source": [
        " 2. Explain the difference between mutable and immutable data types with examples?"
      ],
      "metadata": {
        "id": "SoS1WRQc9iwN"
      }
    },
    {
      "cell_type": "markdown",
      "source": [
        "\n",
        "\n",
        "```\n",
        "- Mutable data types are those objects whose elements can be modified.\n",
        "example : list, set, dictionary.\n",
        "- Immutable data types are those whose elements can't be modified.\n",
        "example: tuple, string\n",
        "\n",
        "```\n",
        "\n"
      ],
      "metadata": {
        "id": "pocjgzDc9itQ"
      }
    },
    {
      "cell_type": "markdown",
      "source": [
        " 3. What are the main differences between lists and tuples in Python?"
      ],
      "metadata": {
        "id": "q0v5xLD6_jUz"
      }
    },
    {
      "cell_type": "markdown",
      "source": [
        "\n",
        "\n",
        "```\n",
        "- list is mutable and enclosed in big brackets\n",
        "while tuple is immutable meaning elements enclosed in curly bracket cannot be modified.\n",
        "```\n",
        "\n"
      ],
      "metadata": {
        "id": "zMOPDeEL_qHA"
      }
    },
    {
      "cell_type": "markdown",
      "source": [
        " 4. Describe how dictionaries store data?"
      ],
      "metadata": {
        "id": "1XEWjprp_jRc"
      }
    },
    {
      "cell_type": "markdown",
      "source": [
        "\n",
        "\n",
        "```\n",
        "dictionary store data in key and value format.\n",
        "d ={\"name\":\"Abhishek\"}\n",
        "```\n",
        "\n"
      ],
      "metadata": {
        "id": "xFOy4CBrAjh2"
      }
    },
    {
      "cell_type": "markdown",
      "source": [
        " 5. Why might you use a set instead of a list in Python?"
      ],
      "metadata": {
        "id": "gKPUhdlR9iqn"
      }
    },
    {
      "cell_type": "markdown",
      "source": [
        "\n",
        "\n",
        "```\n",
        "- I will use set instead of list when there is requirement of unique values only.\n",
        "I can also use when there is need to eliminate duplicates quickly from a list.\n",
        "\n",
        "- Set can have oparations like union, intersection or difference\n",
        "```\n",
        "\n"
      ],
      "metadata": {
        "id": "yeu5WMCY9ioL"
      }
    },
    {
      "cell_type": "markdown",
      "source": [
        "6.  What is a string in Python, and how is it different from a list?\n"
      ],
      "metadata": {
        "id": "VoTXGO_R9ikz"
      }
    },
    {
      "cell_type": "markdown",
      "source": [
        "\n",
        "\n",
        "```\n",
        "- String is a data type which stores only characters or strings.\n",
        "- List can store data types like string, int, float, boolean, frozen set, tuple\n",
        "```\n",
        "\n"
      ],
      "metadata": {
        "id": "eaYJTpCi9iiw"
      }
    },
    {
      "cell_type": "markdown",
      "source": [
        "7.  How do tuples ensure data integrity in Python?"
      ],
      "metadata": {
        "id": "V25hj9ZV9ig1"
      }
    },
    {
      "cell_type": "markdown",
      "source": [
        "\n",
        "\n",
        "```\n",
        "- Tuples are immutable so it cannot be modified like adding, removing elements once created.\n",
        "\n",
        "```\n",
        "\n"
      ],
      "metadata": {
        "id": "MSHN01kH9ie2"
      }
    },
    {
      "cell_type": "markdown",
      "source": [
        "8. What is a hash table, and how does it relate to dictionaries in Python?"
      ],
      "metadata": {
        "id": "9wUkojUA9ic_"
      }
    },
    {
      "cell_type": "markdown",
      "source": [
        "\n",
        "\n",
        "```\n",
        "- A hash table is a data structure that stores key-value pairs using a process called hashing.\n",
        "-It takes a key runs it through a hash function and converts into an index.\n",
        "- when we look up the key later, the hash function quickly finds the index and\n",
        "retrieves the value in near- constant time.\n",
        "```\n",
        "\n"
      ],
      "metadata": {
        "id": "vqW0bnAi9ibC"
      }
    },
    {
      "cell_type": "markdown",
      "source": [
        "9.  Can lists contain different data types in Python?"
      ],
      "metadata": {
        "id": "-e5SGj0fIYzC"
      }
    },
    {
      "cell_type": "markdown",
      "source": [
        "\n",
        "\n",
        "```\n",
        "Yes, list can contain data types like string, int, float, boolean, set, and list itself\n",
        "```\n",
        "\n"
      ],
      "metadata": {
        "id": "HI4r-LVuIdui"
      }
    },
    {
      "cell_type": "markdown",
      "source": [
        "10. Explain why strings are immutable in Python?"
      ],
      "metadata": {
        "id": "maOCsQkPIYd2"
      }
    },
    {
      "cell_type": "markdown",
      "source": [
        "\n",
        "\n",
        "```\n",
        "Strings are immutable because we cannot change any letter in the given word or sentence.\n",
        "```\n",
        "\n"
      ],
      "metadata": {
        "id": "6J8htwcXI5Re"
      }
    },
    {
      "cell_type": "markdown",
      "source": [
        "11.  What advantages do dictionaries offer over lists for certain tasks?"
      ],
      "metadata": {
        "id": "3Jhxvv5mI5N7"
      }
    },
    {
      "cell_type": "markdown",
      "source": [
        "\n",
        "\n",
        "```\n",
        "- Dictionaries have key- value mapping which gives the clarity.\n",
        "```\n",
        "\n"
      ],
      "metadata": {
        "id": "FwRnVWn5I5MC"
      }
    },
    {
      "cell_type": "markdown",
      "source": [
        " 12. Describe a scenario where using a tuple would be preferable over a list?"
      ],
      "metadata": {
        "id": "OHzsO40ZI5JC"
      }
    },
    {
      "cell_type": "markdown",
      "source": [
        "\n",
        "\n",
        "```\n",
        "List is mutable whereas tuples are immutable which means elements cannot be modified.\n",
        "Therefore, Tuples can be used where we don't want to change the elements like in making user_id.\n",
        "```\n",
        "\n"
      ],
      "metadata": {
        "id": "im2H0IS7LiAh"
      }
    },
    {
      "cell_type": "markdown",
      "source": [
        "13. How do sets handle duplicate values in Python?"
      ],
      "metadata": {
        "id": "3goMWPqMI5GA"
      }
    },
    {
      "cell_type": "markdown",
      "source": [
        "\n",
        "\n",
        "\n",
        "\n",
        "```\n",
        "Sets remove the duplicate values.\n",
        "\n",
        "```\n",
        "\n",
        "\n",
        "\n",
        "\n",
        "\n"
      ],
      "metadata": {
        "id": "SQbaMGFmI5DS"
      }
    },
    {
      "cell_type": "markdown",
      "source": [
        " 14.  How does the “in” keyword work differently for lists and dictionaries ?"
      ],
      "metadata": {
        "id": "QAdKKawaI5AU"
      }
    },
    {
      "cell_type": "markdown",
      "source": [
        "\n",
        "\n",
        "```\n",
        "- When used with a list, \"in\" checks if a value is present among the list items.\n",
        "- In dictionary, \"in\" checks if a key exists- not the value\n",
        "```\n",
        "\n"
      ],
      "metadata": {
        "id": "ZWnPlwz-I42F"
      }
    },
    {
      "cell_type": "markdown",
      "source": [
        " 15. Can you modify the elements of a tuple? Explain why or why not"
      ],
      "metadata": {
        "id": "KoJBetHXI4pA"
      }
    },
    {
      "cell_type": "markdown",
      "source": [
        "\n",
        "\n",
        "```\n",
        "No, We cannot modify the elements of a tuple because it is immutable.\n",
        "```\n",
        "\n"
      ],
      "metadata": {
        "id": "uHnTbXVUNiAw"
      }
    },
    {
      "cell_type": "markdown",
      "source": [
        "16.  What is a nested dictionary, and give an example of its use case?"
      ],
      "metadata": {
        "id": "QEpV9AE_NtOl"
      }
    },
    {
      "cell_type": "markdown",
      "source": [
        "\n",
        "\n",
        "```\n",
        "It is a dictionary within a dictionary.\n",
        "nested_dict={\n",
        "  \"Abhishek\":{\"age\":23,\"weight\":70}\n",
        "  \"Shivam\": {\"age\":22,\"weight\":60}\n",
        "}\n",
        "```\n",
        "\n"
      ],
      "metadata": {
        "id": "ZkxytmPxNyMn"
      }
    },
    {
      "cell_type": "markdown",
      "source": [
        "17. Describe the time complexity of accessing elements in a dictionary?"
      ],
      "metadata": {
        "id": "4bHWumiJNyJu"
      }
    },
    {
      "cell_type": "markdown",
      "source": [
        "\n",
        "\n",
        "```\n",
        "- It is fast, reason lies in hash table.\n",
        "- O(1) this means constant time, regardless of the dictionary's size.\n",
        "```\n",
        "\n"
      ],
      "metadata": {
        "id": "dOL2EswWNyHF"
      }
    },
    {
      "cell_type": "markdown",
      "source": [
        " 18. In what situations are lists preferred over dictionaries?"
      ],
      "metadata": {
        "id": "ZiBVk2V3NyFE"
      }
    },
    {
      "cell_type": "markdown",
      "source": [
        "\n",
        "\n",
        "```\n",
        "- when it is simple collection of data.\n",
        "- to store duplicate elements.\n",
        "- when the sequence matters.\n",
        "```\n",
        "\n"
      ],
      "metadata": {
        "id": "Kqcpm6RKNyBr"
      }
    },
    {
      "cell_type": "markdown",
      "source": [
        "19.  Why are dictionaries considered unordered, and how does that affect data retrieval?"
      ],
      "metadata": {
        "id": "Bb7QEzGtNxtg"
      }
    },
    {
      "cell_type": "markdown",
      "source": [
        "\n",
        "\n",
        "```\n",
        "Before Python 3.7 version, dictionaries are truly unordered but after 3.7 version dictionaries are\n",
        "ordered by default. However, dictionaries are still technically referred to as unordered collections\n",
        "because their core mechanish---hashing that doesn't guarantee a fixed order in the same way a list does.\n",
        "```\n",
        "\n"
      ],
      "metadata": {
        "id": "GGcE06XiR5BC"
      }
    },
    {
      "cell_type": "markdown",
      "source": [
        "20.Explain the difference between a list and a dictionary in terms of data retrieval."
      ],
      "metadata": {
        "id": "SZ1aVU_ST4oT"
      }
    },
    {
      "cell_type": "markdown",
      "source": [
        "\n",
        "\n",
        "```\n",
        "- In list elements can be accessed by Index where as in dictionaries elements are accessed by key.\n",
        "- list is slower --O(n) where as dictionary is fast --O(1)\n",
        "\n",
        "```\n",
        "\n"
      ],
      "metadata": {
        "id": "e2XnypfTT6yu"
      }
    },
    {
      "cell_type": "markdown",
      "source": [
        "#Practical Questions"
      ],
      "metadata": {
        "id": "MDF_1omsQaKO"
      }
    },
    {
      "cell_type": "markdown",
      "source": [
        "1. write a code to create a string with your name and print it."
      ],
      "metadata": {
        "id": "SsDNRFJtQk3C"
      }
    },
    {
      "cell_type": "code",
      "source": [
        "name = \"Abhishek Pandey\"\n",
        "print(name)"
      ],
      "metadata": {
        "colab": {
          "base_uri": "https://localhost:8080/"
        },
        "id": "KBiIqvz_QukE",
        "outputId": "a12a23c1-15a7-46db-892c-32da820886e9"
      },
      "execution_count": null,
      "outputs": [
        {
          "output_type": "stream",
          "name": "stdout",
          "text": [
            "Abhishek Pandey\n"
          ]
        }
      ]
    },
    {
      "cell_type": "markdown",
      "source": [
        "2. Write a code to find the length of the string \"Hello World\""
      ],
      "metadata": {
        "id": "cTZLhWHQRSMK"
      }
    },
    {
      "cell_type": "code",
      "source": [
        "str1= \"Hello World\"\n",
        "len(str1)"
      ],
      "metadata": {
        "colab": {
          "base_uri": "https://localhost:8080/"
        },
        "id": "7sFSvwvcRZG-",
        "outputId": "fad5c997-93ff-49da-ca79-b9e961b7a6b8"
      },
      "execution_count": null,
      "outputs": [
        {
          "output_type": "execute_result",
          "data": {
            "text/plain": [
              "11"
            ]
          },
          "metadata": {},
          "execution_count": 4
        }
      ]
    },
    {
      "cell_type": "markdown",
      "source": [
        "3. Write a code to slice the first 3 characters from the string \"Python Programming\""
      ],
      "metadata": {
        "id": "DAlMPzMqRj_t"
      }
    },
    {
      "cell_type": "code",
      "source": [
        "str2= \"Python Programming\"\n",
        "str2[:3]"
      ],
      "metadata": {
        "colab": {
          "base_uri": "https://localhost:8080/",
          "height": 36
        },
        "id": "EYBDANCKRy6H",
        "outputId": "1e73a5f6-e366-425c-c1a6-602c56118fc3"
      },
      "execution_count": null,
      "outputs": [
        {
          "output_type": "execute_result",
          "data": {
            "text/plain": [
              "'Pyt'"
            ],
            "application/vnd.google.colaboratory.intrinsic+json": {
              "type": "string"
            }
          },
          "metadata": {},
          "execution_count": 6
        }
      ]
    },
    {
      "cell_type": "markdown",
      "source": [
        "4. Write a code to convert the string \"hello\" to uppercase."
      ],
      "metadata": {
        "id": "yKeIPOjdR8jC"
      }
    },
    {
      "cell_type": "code",
      "source": [
        "str3= \"hello\"\n",
        "str3.upper()"
      ],
      "metadata": {
        "colab": {
          "base_uri": "https://localhost:8080/",
          "height": 36
        },
        "id": "RreZDG7MSE0A",
        "outputId": "016f02d6-ee6f-46bb-8fc9-17de21bcf4f4"
      },
      "execution_count": null,
      "outputs": [
        {
          "output_type": "execute_result",
          "data": {
            "text/plain": [
              "'HELLO'"
            ],
            "application/vnd.google.colaboratory.intrinsic+json": {
              "type": "string"
            }
          },
          "metadata": {},
          "execution_count": 8
        }
      ]
    },
    {
      "cell_type": "markdown",
      "source": [
        "5. Write a code to replace the word \"apple\" with \"orange\" in the string \"I like apple\"."
      ],
      "metadata": {
        "id": "HMWm9G5mSRQ_"
      }
    },
    {
      "cell_type": "code",
      "source": [
        "str4= \"I like apple\"\n",
        "str4.replace(\"apple\" , \"orange\")"
      ],
      "metadata": {
        "colab": {
          "base_uri": "https://localhost:8080/",
          "height": 36
        },
        "id": "AOEEjakiTFZp",
        "outputId": "20eb6fc0-4327-434a-f777-1fde14d3ef5b"
      },
      "execution_count": null,
      "outputs": [
        {
          "output_type": "execute_result",
          "data": {
            "text/plain": [
              "'I like orange'"
            ],
            "application/vnd.google.colaboratory.intrinsic+json": {
              "type": "string"
            }
          },
          "metadata": {},
          "execution_count": 10
        }
      ]
    },
    {
      "cell_type": "markdown",
      "source": [
        "6. Write a code to create a list with numbers 1 to 5 and print it."
      ],
      "metadata": {
        "id": "aLZ0SQvwTRjZ"
      }
    },
    {
      "cell_type": "code",
      "source": [
        "list_num = [1, 2, 3, 4, 5]\n",
        "print(list_num)"
      ],
      "metadata": {
        "colab": {
          "base_uri": "https://localhost:8080/"
        },
        "id": "nJicRdOyTckM",
        "outputId": "2edf2d20-059d-4517-b4ef-aecd971e9762"
      },
      "execution_count": null,
      "outputs": [
        {
          "output_type": "stream",
          "name": "stdout",
          "text": [
            "[1, 2, 3, 4, 5]\n"
          ]
        }
      ]
    },
    {
      "cell_type": "markdown",
      "source": [
        "7. Write a code to append the number 10 to the list [1, 2, 3, 4]."
      ],
      "metadata": {
        "id": "0YKf3Y2fTsYu"
      }
    },
    {
      "cell_type": "code",
      "source": [
        "num_list = [1, 2, 3, 4]\n",
        "num_list.append(10)\n",
        "num_list"
      ],
      "metadata": {
        "colab": {
          "base_uri": "https://localhost:8080/"
        },
        "id": "7ReVlZSCT3N0",
        "outputId": "2ed94964-3b90-4ba4-9726-517f47eff413"
      },
      "execution_count": null,
      "outputs": [
        {
          "output_type": "execute_result",
          "data": {
            "text/plain": [
              "[1, 2, 3, 4, 10]"
            ]
          },
          "metadata": {},
          "execution_count": 13
        }
      ]
    },
    {
      "cell_type": "markdown",
      "source": [
        "8. Write a code to remove the number 3 from the list [1, 2, 3, 4, 5]."
      ],
      "metadata": {
        "id": "QA7CZ03mUFob"
      }
    },
    {
      "cell_type": "code",
      "source": [
        "list_1 = [1, 2, 3, 4, 5]\n",
        "list_1.remove(3)\n",
        "list_1"
      ],
      "metadata": {
        "colab": {
          "base_uri": "https://localhost:8080/"
        },
        "id": "dggHu6vtULPX",
        "outputId": "9c5ef8bd-5453-437a-b74f-f6a83f0cdb5b"
      },
      "execution_count": null,
      "outputs": [
        {
          "output_type": "execute_result",
          "data": {
            "text/plain": [
              "[1, 2, 4, 5]"
            ]
          },
          "metadata": {},
          "execution_count": 15
        }
      ]
    },
    {
      "cell_type": "markdown",
      "source": [
        "9. Write a code to access the second element in the list ['a', 'b', 'c', 'd']."
      ],
      "metadata": {
        "id": "CuwVCP9fUWaN"
      }
    },
    {
      "cell_type": "code",
      "source": [
        "al_list = ['a', 'b', 'c', 'd']\n",
        "al_list[1]"
      ],
      "metadata": {
        "colab": {
          "base_uri": "https://localhost:8080/",
          "height": 36
        },
        "id": "RPloHF_aUcOx",
        "outputId": "a459d286-c3a2-496f-9246-e051da82f10f"
      },
      "execution_count": null,
      "outputs": [
        {
          "output_type": "execute_result",
          "data": {
            "text/plain": [
              "'b'"
            ],
            "application/vnd.google.colaboratory.intrinsic+json": {
              "type": "string"
            }
          },
          "metadata": {},
          "execution_count": 16
        }
      ]
    },
    {
      "cell_type": "markdown",
      "source": [
        "10. Write a code to reverse the list [10, 20, 30, 40, 50]."
      ],
      "metadata": {
        "id": "aJRmqEOiUprq"
      }
    },
    {
      "cell_type": "code",
      "source": [
        "rev_list = [10, 20, 30, 40, 50]\n",
        "rev_list[-1::-1]"
      ],
      "metadata": {
        "colab": {
          "base_uri": "https://localhost:8080/"
        },
        "id": "z7CMbIgcUze6",
        "outputId": "60dee8db-9fee-4d91-b985-41c649318efe"
      },
      "execution_count": null,
      "outputs": [
        {
          "output_type": "execute_result",
          "data": {
            "text/plain": [
              "[50, 40, 30, 20, 10]"
            ]
          },
          "metadata": {},
          "execution_count": 23
        }
      ]
    },
    {
      "cell_type": "markdown",
      "source": [
        "11. Write a code to create a tuple with the elements 100, 200, 300 and print it."
      ],
      "metadata": {
        "id": "yD-q8wOqVT06"
      }
    },
    {
      "cell_type": "code",
      "source": [
        "tuple_1 = (100, 200, 300)\n",
        "print(tuple_1)"
      ],
      "metadata": {
        "colab": {
          "base_uri": "https://localhost:8080/"
        },
        "id": "p0RVsXxfXBBN",
        "outputId": "637b0a0c-def2-4d9e-cad4-79ae1658af80"
      },
      "execution_count": null,
      "outputs": [
        {
          "output_type": "stream",
          "name": "stdout",
          "text": [
            "(100, 200, 300)\n"
          ]
        }
      ]
    },
    {
      "cell_type": "markdown",
      "source": [
        "12. Write a code to access the second-to-last element of the tuple ('red', 'green', 'blue', 'yellow')."
      ],
      "metadata": {
        "id": "QBQEOTn2XJrq"
      }
    },
    {
      "cell_type": "code",
      "source": [
        "tup_2 = ('red', 'green', 'blue', 'yellow')\n",
        "tup_2[1:]"
      ],
      "metadata": {
        "colab": {
          "base_uri": "https://localhost:8080/"
        },
        "id": "t_VDMQDXXNUt",
        "outputId": "991eee49-0c57-414f-9c48-77597ef983d8"
      },
      "execution_count": null,
      "outputs": [
        {
          "output_type": "execute_result",
          "data": {
            "text/plain": [
              "('green', 'blue', 'yellow')"
            ]
          },
          "metadata": {},
          "execution_count": 27
        }
      ]
    },
    {
      "cell_type": "markdown",
      "source": [
        "13. Write a code to find the minimum number in the tuple (10, 20, 5, 15)."
      ],
      "metadata": {
        "id": "3x6qvnahXWsP"
      }
    },
    {
      "cell_type": "code",
      "source": [
        "tup_3=(10, 20, 5, 15)\n",
        "min(tup_3)"
      ],
      "metadata": {
        "colab": {
          "base_uri": "https://localhost:8080/"
        },
        "id": "e5565_eGXnGa",
        "outputId": "f9fe216c-7929-472d-ee85-8bfd2b403645"
      },
      "execution_count": null,
      "outputs": [
        {
          "output_type": "execute_result",
          "data": {
            "text/plain": [
              "5"
            ]
          },
          "metadata": {},
          "execution_count": 29
        }
      ]
    },
    {
      "cell_type": "markdown",
      "source": [
        "14. Write a code to find the index of the element \"cat\" in the tuple ('dog', 'cat', 'rabbit')."
      ],
      "metadata": {
        "id": "RHj6KU1bYXFJ"
      }
    },
    {
      "cell_type": "code",
      "source": [
        "tup_4 = ('dog', 'cat', 'rabbit')\n",
        "tup_4.index(\"cat\")"
      ],
      "metadata": {
        "colab": {
          "base_uri": "https://localhost:8080/"
        },
        "id": "DEmKwerlYtRL",
        "outputId": "6487d97e-310e-4864-da9b-e756ec6ff83e"
      },
      "execution_count": null,
      "outputs": [
        {
          "output_type": "execute_result",
          "data": {
            "text/plain": [
              "1"
            ]
          },
          "metadata": {},
          "execution_count": 30
        }
      ]
    },
    {
      "cell_type": "markdown",
      "source": [
        "15. Write a code to create a tuple containing three different fruits and check if \"kiwi\" is in it."
      ],
      "metadata": {
        "id": "bAadja5dY58O"
      }
    },
    {
      "cell_type": "code",
      "source": [
        "tup_5 = (\"apple\", \"kiwi\", \"orange\")\n",
        "\"kiwi\" in tup_5"
      ],
      "metadata": {
        "colab": {
          "base_uri": "https://localhost:8080/"
        },
        "id": "e4lo9G3fY99G",
        "outputId": "8ce5d533-e6a7-4cb5-c65c-211f51ebdd8a"
      },
      "execution_count": null,
      "outputs": [
        {
          "output_type": "execute_result",
          "data": {
            "text/plain": [
              "True"
            ]
          },
          "metadata": {},
          "execution_count": 31
        }
      ]
    },
    {
      "cell_type": "markdown",
      "source": [
        "16. Write a code to create a set with the elements 'a', 'b', 'c' and print it."
      ],
      "metadata": {
        "id": "_S5VNGFLa0AG"
      }
    },
    {
      "cell_type": "code",
      "source": [
        "set_1 ={'a', 'b', 'c'}\n",
        "print(set_1)"
      ],
      "metadata": {
        "colab": {
          "base_uri": "https://localhost:8080/"
        },
        "id": "s-pSY1oda4Ym",
        "outputId": "d0293534-7c78-4bff-f631-a38970658fe4"
      },
      "execution_count": null,
      "outputs": [
        {
          "output_type": "stream",
          "name": "stdout",
          "text": [
            "{'a', 'c', 'b'}\n"
          ]
        }
      ]
    },
    {
      "cell_type": "markdown",
      "source": [
        "17. Write a code to clear all elements from the set {1, 2, 3, 4, 5}."
      ],
      "metadata": {
        "id": "j35KC3ONbAbS"
      }
    },
    {
      "cell_type": "code",
      "source": [
        "set_2 = {1, 2, 3, 4, 5}\n",
        "set_2.clear()\n",
        "set_2"
      ],
      "metadata": {
        "colab": {
          "base_uri": "https://localhost:8080/"
        },
        "id": "rrpKfhDQbDIR",
        "outputId": "7a1fb3fa-30cb-4262-fcaf-5af386274c2e"
      },
      "execution_count": null,
      "outputs": [
        {
          "output_type": "execute_result",
          "data": {
            "text/plain": [
              "set()"
            ]
          },
          "metadata": {},
          "execution_count": 34
        }
      ]
    },
    {
      "cell_type": "markdown",
      "source": [
        "18. Write a code to remove the element 4 from the set {1, 2, 3, 4}."
      ],
      "metadata": {
        "id": "APuviPQBbfHp"
      }
    },
    {
      "cell_type": "code",
      "source": [
        "set_3 = {1, 2, 3, 4}\n",
        "set_3.remove(4)"
      ],
      "metadata": {
        "id": "voFKvXn3blQQ"
      },
      "execution_count": null,
      "outputs": []
    },
    {
      "cell_type": "code",
      "source": [
        "set_3"
      ],
      "metadata": {
        "colab": {
          "base_uri": "https://localhost:8080/"
        },
        "id": "kz_3HXIIbt1J",
        "outputId": "93a71093-a9e1-410c-dfa4-2e8d515506fc"
      },
      "execution_count": null,
      "outputs": [
        {
          "output_type": "execute_result",
          "data": {
            "text/plain": [
              "{1, 2, 3}"
            ]
          },
          "metadata": {},
          "execution_count": 36
        }
      ]
    },
    {
      "cell_type": "markdown",
      "source": [
        "19. Write a code to find the union of two sets {1, 2, 3} and {3, 4, 5}."
      ],
      "metadata": {
        "id": "26R_NW0JbvH6"
      }
    },
    {
      "cell_type": "code",
      "source": [
        "s1= {1, 2, 3}\n",
        "s2= {3, 4, 5}\n",
        "s1 | s2"
      ],
      "metadata": {
        "colab": {
          "base_uri": "https://localhost:8080/"
        },
        "id": "qn8Q1G2mbyWJ",
        "outputId": "a10b4a0e-b9ad-4ec9-cd63-634d64760632"
      },
      "execution_count": null,
      "outputs": [
        {
          "output_type": "execute_result",
          "data": {
            "text/plain": [
              "{1, 2, 3, 4, 5}"
            ]
          },
          "metadata": {},
          "execution_count": 37
        }
      ]
    },
    {
      "cell_type": "markdown",
      "source": [
        "20. Write a code to find the intersection of two sets {1, 2, 3} and {2, 3, 4}."
      ],
      "metadata": {
        "id": "cYM5p6qTcKTJ"
      }
    },
    {
      "cell_type": "code",
      "source": [
        "s1= {1, 2, 3}\n",
        "s2= {3, 4, 5}\n",
        "s1 & s2"
      ],
      "metadata": {
        "colab": {
          "base_uri": "https://localhost:8080/"
        },
        "id": "xewQ9E4tcPz4",
        "outputId": "fa4e8f63-e9d9-4b32-b996-12a8fa5a4e9c"
      },
      "execution_count": null,
      "outputs": [
        {
          "output_type": "execute_result",
          "data": {
            "text/plain": [
              "{3}"
            ]
          },
          "metadata": {},
          "execution_count": 38
        }
      ]
    },
    {
      "cell_type": "markdown",
      "source": [
        "21. Write a code to create a dictionary with the keys \"name\", \"age\", and \"city\", and print it."
      ],
      "metadata": {
        "id": "KOLC22zUcZaH"
      }
    },
    {
      "cell_type": "code",
      "source": [
        "dic = {\"name\":\"Abhishek\",\"age\":22,\"city\":\"Chandauli\"}\n",
        "print(dic)"
      ],
      "metadata": {
        "colab": {
          "base_uri": "https://localhost:8080/"
        },
        "id": "cUywex9xceCO",
        "outputId": "2051ed02-ff81-4b96-d64a-16624171003d"
      },
      "execution_count": null,
      "outputs": [
        {
          "output_type": "stream",
          "name": "stdout",
          "text": [
            "{'name': 'Abhishek\\n', 'age': 22, 'city': 'Chandauli'}\n"
          ]
        }
      ]
    },
    {
      "cell_type": "markdown",
      "source": [
        "22. Write a code to add a new key-value pair \"country\": \"USA\" to the dictionary {'name': 'John', 'age': 25}"
      ],
      "metadata": {
        "id": "ElCzHHpjc16k"
      }
    },
    {
      "cell_type": "code",
      "source": [
        "dic_1 = {'name': 'John', 'age': 25}\n",
        "dic_1[\"country\"]=\"USA\""
      ],
      "metadata": {
        "id": "M6_SEvqSdlh2"
      },
      "execution_count": null,
      "outputs": []
    },
    {
      "cell_type": "code",
      "source": [
        "dic_1"
      ],
      "metadata": {
        "colab": {
          "base_uri": "https://localhost:8080/"
        },
        "id": "ZssBFW2LeGFM",
        "outputId": "7bb84f37-0af1-409b-8066-af335e8cf6f0"
      },
      "execution_count": null,
      "outputs": [
        {
          "output_type": "execute_result",
          "data": {
            "text/plain": [
              "{'name': 'John', 'age': 25, 'country': 'USA'}"
            ]
          },
          "metadata": {},
          "execution_count": 46
        }
      ]
    },
    {
      "cell_type": "markdown",
      "source": [
        "23. Write a code to access the value associated with the key \"name\" in the dictionary {'name': 'Alice', 'age': 30}."
      ],
      "metadata": {
        "id": "UzAtFOK2eIT3"
      }
    },
    {
      "cell_type": "code",
      "source": [
        "d1 ={'name': 'Alice', 'age': 30}\n",
        "d1[\"name\"]"
      ],
      "metadata": {
        "colab": {
          "base_uri": "https://localhost:8080/",
          "height": 36
        },
        "id": "cBQZ2kfreOjD",
        "outputId": "4b965ee4-fddb-4d29-9f49-4d4e98601575"
      },
      "execution_count": null,
      "outputs": [
        {
          "output_type": "execute_result",
          "data": {
            "text/plain": [
              "'Alice'"
            ],
            "application/vnd.google.colaboratory.intrinsic+json": {
              "type": "string"
            }
          },
          "metadata": {},
          "execution_count": 47
        }
      ]
    },
    {
      "cell_type": "markdown",
      "source": [
        "24. Write a code to remove the key \"age\" from the dictionary {'name': 'Bob', 'age': 22, 'city': 'New York'}."
      ],
      "metadata": {
        "id": "XljCvGq6eWBG"
      }
    },
    {
      "cell_type": "code",
      "source": [
        "d2 = {'name': 'Bob', 'age': 22, 'city': 'New York'}\n",
        "del d2[\"age\"]"
      ],
      "metadata": {
        "id": "wWlKHKjjeaht"
      },
      "execution_count": null,
      "outputs": []
    },
    {
      "cell_type": "code",
      "source": [
        "d2"
      ],
      "metadata": {
        "colab": {
          "base_uri": "https://localhost:8080/"
        },
        "id": "YZTn6gerexUQ",
        "outputId": "22c4d907-84e1-4768-9a51-65a378dc7a59"
      },
      "execution_count": null,
      "outputs": [
        {
          "output_type": "execute_result",
          "data": {
            "text/plain": [
              "{'name': 'Bob', 'city': 'New York'}"
            ]
          },
          "metadata": {},
          "execution_count": 49
        }
      ]
    },
    {
      "cell_type": "markdown",
      "source": [
        "25. Write a code to check if the key \"city\" exists in the dictionary {'name': 'Alice', 'city': 'Paris'}."
      ],
      "metadata": {
        "id": "Zb6qUZD9eyEO"
      }
    },
    {
      "cell_type": "code",
      "source": [
        "d3 =  {'name': 'Alice', 'city': 'Paris'}\n",
        "\"city\" in d3"
      ],
      "metadata": {
        "colab": {
          "base_uri": "https://localhost:8080/"
        },
        "id": "BCZQVDF5e2Fr",
        "outputId": "4baec257-b064-4607-8e87-4812d8e11091"
      },
      "execution_count": null,
      "outputs": [
        {
          "output_type": "execute_result",
          "data": {
            "text/plain": [
              "True"
            ]
          },
          "metadata": {},
          "execution_count": 50
        }
      ]
    },
    {
      "cell_type": "markdown",
      "source": [
        "26. Write a code to create a list, a tuple, and a dictionary, and print them all."
      ],
      "metadata": {
        "id": "MjeDpqByfDHN"
      }
    },
    {
      "cell_type": "code",
      "source": [
        "lis = [\"abhishek\", True, 3.4, 4]\n",
        "tup = (\"abhishek\", False, 3.4, 4)\n",
        "dic = {\"Name\":\"Abhishek\", \"age\":22}\n",
        "print(lis,\"\\n\",tup,\"\\n\",dic)"
      ],
      "metadata": {
        "colab": {
          "base_uri": "https://localhost:8080/"
        },
        "id": "wIXNr_3GfGkq",
        "outputId": "102334ba-812a-4e35-f2e4-cfa3adc0d173"
      },
      "execution_count": null,
      "outputs": [
        {
          "output_type": "stream",
          "name": "stdout",
          "text": [
            "['abhishek', True, 3.4, 4] \n",
            " ('abhishek', False, 3.4, 4) \n",
            " {'Name': 'Abhishek', 'age': 22}\n"
          ]
        }
      ]
    },
    {
      "cell_type": "markdown",
      "source": [
        "27. Write a code to create a list of 5 random numbers between 1 and 100, sort it in ascending order, and print the\n",
        "result.(replaced)"
      ],
      "metadata": {
        "id": "_iW5lD6vn_CK"
      }
    },
    {
      "cell_type": "code",
      "source": [
        "import random\n",
        "random_elements =[]\n",
        "for i in range(5):\n",
        "  random_elements.append(random.choice(range(1,101)))\n",
        "print(random_elements)\n",
        "#print(random_elements.sort())\n",
        "\n",
        "\n",
        "\n"
      ],
      "metadata": {
        "colab": {
          "base_uri": "https://localhost:8080/"
        },
        "id": "c0YtTUgxog7e",
        "outputId": "a7f4cb22-e116-4cae-c53c-0ef53e0def51"
      },
      "execution_count": 4,
      "outputs": [
        {
          "output_type": "stream",
          "name": "stdout",
          "text": [
            "[63, 62, 69, 28, 4]\n"
          ]
        }
      ]
    },
    {
      "cell_type": "code",
      "source": [
        "random_elements.sort()"
      ],
      "metadata": {
        "id": "lrilVHbyyCoC"
      },
      "execution_count": 9,
      "outputs": []
    },
    {
      "cell_type": "code",
      "source": [
        "random_elements"
      ],
      "metadata": {
        "colab": {
          "base_uri": "https://localhost:8080/"
        },
        "id": "ROJzkhRIdCwL",
        "outputId": "db73c29c-0ec3-43be-e39d-0213e951442c"
      },
      "execution_count": 10,
      "outputs": [
        {
          "output_type": "execute_result",
          "data": {
            "text/plain": [
              "[4, 28, 62, 63, 69]"
            ]
          },
          "metadata": {},
          "execution_count": 10
        }
      ]
    },
    {
      "cell_type": "markdown",
      "source": [
        "28. . Write a code to create a list with strings and print the element at the third index."
      ],
      "metadata": {
        "id": "8yKpCxzTdIAb"
      }
    },
    {
      "cell_type": "code",
      "source": [
        "str_list= list(input(\"Enter a string\"))\n",
        "print(str_list[3])"
      ],
      "metadata": {
        "colab": {
          "base_uri": "https://localhost:8080/"
        },
        "id": "SIhhI-WBdljy",
        "outputId": "94aff475-32f2-49ac-f499-0f70ca18203e"
      },
      "execution_count": 11,
      "outputs": [
        {
          "output_type": "stream",
          "name": "stdout",
          "text": [
            "Enter a stringMy name is abhishek\n",
            "n\n"
          ]
        }
      ]
    },
    {
      "cell_type": "markdown",
      "source": [
        "29. Write a code to combine two dictionaries into one and print the result."
      ],
      "metadata": {
        "id": "QVLXbtiqfEnG"
      }
    },
    {
      "cell_type": "code",
      "source": [
        "info1={\"name\":\"abhishek\"}\n",
        "info2={\"age\":22}\n",
        "info1.update(info2)\n",
        "info1"
      ],
      "metadata": {
        "colab": {
          "base_uri": "https://localhost:8080/"
        },
        "id": "ZhYVXoFBfPKj",
        "outputId": "ce24326c-246d-4f85-822f-b1b166b654a7"
      },
      "execution_count": 14,
      "outputs": [
        {
          "output_type": "execute_result",
          "data": {
            "text/plain": [
              "{'name': 'abhishek', 'age': 22}"
            ]
          },
          "metadata": {},
          "execution_count": 14
        }
      ]
    },
    {
      "cell_type": "markdown",
      "source": [
        "30. Write a code to convert a list of strings into a set."
      ],
      "metadata": {
        "id": "zy-NsAPFf5QV"
      }
    },
    {
      "cell_type": "code",
      "source": [
        "l_strs=[\"abhishek\", \"aman\",\"shivam\", \"abhishek\"]\n",
        "con= set(l_strs)"
      ],
      "metadata": {
        "id": "WDibf0wzgqMY"
      },
      "execution_count": 19,
      "outputs": []
    },
    {
      "cell_type": "code",
      "source": [
        "con"
      ],
      "metadata": {
        "colab": {
          "base_uri": "https://localhost:8080/"
        },
        "id": "dn3mGkpGhZDF",
        "outputId": "ee4d90e4-b28c-4bcf-aefb-9783a2a026ff"
      },
      "execution_count": 20,
      "outputs": [
        {
          "output_type": "execute_result",
          "data": {
            "text/plain": [
              "{'abhishek', 'aman', 'shivam'}"
            ]
          },
          "metadata": {},
          "execution_count": 20
        }
      ]
    },
    {
      "cell_type": "code",
      "source": [],
      "metadata": {
        "id": "s16qUVhohZ-A"
      },
      "execution_count": null,
      "outputs": []
    }
  ]
}